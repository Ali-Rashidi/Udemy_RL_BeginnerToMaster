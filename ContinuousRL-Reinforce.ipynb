{
 "cells": [
  {
   "cell_type": "markdown",
   "id": "105bba8c",
   "metadata": {},
   "source": [
    "# Continuous RL - Reinforce"
   ]
  },
  {
   "cell_type": "code",
   "execution_count": 1,
   "id": "bdd4dfdd",
   "metadata": {},
   "outputs": [
    {
     "name": "stderr",
     "output_type": "stream",
     "text": [
      "C:\\ProgramData\\Anaconda3\\envs\\vrep\\lib\\site-packages\\seaborn\\rcmod.py:82: DeprecationWarning: distutils Version classes are deprecated. Use packaging.version instead.\n",
      "  if LooseVersion(mpl.__version__) >= \"3.0\":\n",
      "C:\\ProgramData\\Anaconda3\\envs\\vrep\\lib\\site-packages\\setuptools\\_distutils\\version.py:346: DeprecationWarning: distutils Version classes are deprecated. Use packaging.version instead.\n",
      "  other = LooseVersion(other)\n",
      "C:\\Users\\Ali\\Documents\\RLwithPhil\\code\\parallel_env.py:16: DeprecationWarning: `np.bool` is a deprecated alias for the builtin `bool`. To silence this warning, use `bool` by itself. Doing this will not modify any behavior and is safe. If you specifically wanted the numpy scalar type, use `np.bool_` here.\n",
      "Deprecated in NumPy 1.20; for more details and guidance: https://numpy.org/devdocs/release/1.20.0-notes.html#deprecations\n",
      "  np.bool: ctypes.c_bool}\n"
     ]
    }
   ],
   "source": [
    "import random\n",
    "import os\n",
    "import numpy as np\n",
    "import copy\n",
    "import gym\n",
    "import torch\n",
    "import torch.nn.functional as F\n",
    "import matplotlib.pyplot as plt\n",
    "from torch import nn as nn\n",
    "from torch.optim import AdamW\n",
    "from tqdm import tqdm\n",
    "from utils import plot_cost_to_go , plot_max_q , test_agent , plot_stats , seed_everything , plot_action_probs , test_policy_network\n",
    "from parallel_env import ParallelEnv , ParallelWrapper\n",
    "%matplotlib notebook"
   ]
  },
  {
   "cell_type": "code",
   "execution_count": 2,
   "id": "9feebbd9",
   "metadata": {},
   "outputs": [
    {
     "name": "stderr",
     "output_type": "stream",
     "text": [
      "C:\\ProgramData\\Anaconda3\\envs\\vrep\\lib\\site-packages\\gym\\envs\\registration.py:593: UserWarning: \u001b[33mWARN: The environment CartPole-v0 is out of date. You should consider upgrading to version `v1`.\u001b[0m\n",
      "  logger.warn(\n",
      "C:\\ProgramData\\Anaconda3\\envs\\vrep\\lib\\site-packages\\gym\\core.py:329: DeprecationWarning: \u001b[33mWARN: Initializing wrapper in old step API which returns one bool instead of two. It is recommended to set `new_step_api=True` to use new step API. This will be the default behaviour in future.\u001b[0m\n",
      "  deprecation(\n",
      "C:\\ProgramData\\Anaconda3\\envs\\vrep\\lib\\site-packages\\gym\\wrappers\\step_api_compatibility.py:39: DeprecationWarning: \u001b[33mWARN: Initializing environment in old step API which returns one bool instead of two. It is recommended to set `new_step_api=True` to use new step API. This will be the default behaviour in future.\u001b[0m\n",
      "  deprecation(\n"
     ]
    }
   ],
   "source": [
    "env = gym.make('CartPole-v0')"
   ]
  },
  {
   "cell_type": "code",
   "execution_count": 3,
   "id": "5123950a",
   "metadata": {},
   "outputs": [
    {
     "name": "stdout",
     "output_type": "stream",
     "text": [
      "state dim: 4, action dim: 2\n"
     ]
    }
   ],
   "source": [
    "state_dims = env.observation_space.shape[0]\n",
    "num_actions = env.action_space.n\n",
    "print(f\"state dim: {state_dims}, action dim: {num_actions}\")"
   ]
  },
  {
   "cell_type": "code",
   "execution_count": 4,
   "id": "ba8d7080",
   "metadata": {},
   "outputs": [
    {
     "name": "stdout",
     "output_type": "stream",
     "text": [
      "Max num_envs : 8\n"
     ]
    }
   ],
   "source": [
    "## Parallelize Environment\n",
    "num_envs = int(os.cpu_count() / 2)\n",
    "print(f\"Max num_envs : {num_envs}\")"
   ]
  },
  {
   "cell_type": "code",
   "execution_count": 5,
   "id": "93064d30",
   "metadata": {},
   "outputs": [],
   "source": [
    "def create_env(env_name , seed):\n",
    "    env = gym.make(env_name)\n",
    "    seed_everything(env , seed = seed)\n",
    "    return env"
   ]
  },
  {
   "cell_type": "code",
   "execution_count": 6,
   "id": "35e75b50",
   "metadata": {},
   "outputs": [
    {
     "name": "stderr",
     "output_type": "stream",
     "text": [
      "C:\\ProgramData\\Anaconda3\\envs\\vrep\\lib\\site-packages\\gym\\core.py:268: DeprecationWarning: \u001b[33mWARN: Function `env.seed(seed)` is marked as deprecated and will be removed in the future. Please use `env.reset(seed=seed)` instead.\u001b[0m\n",
      "  deprecation(\n"
     ]
    }
   ],
   "source": [
    "env_fns = [lambda: create_env('CartPole-v0',rank) for rank in range(num_envs)]\n",
    "parallel_env = ParallelEnv(env_fns)"
   ]
  },
  {
   "cell_type": "code",
   "execution_count": 7,
   "id": "012d7879",
   "metadata": {},
   "outputs": [
    {
     "data": {
      "text/plain": [
       "array([[ 0.01250955,  0.03972138,  0.02756857, -0.02747928],\n",
       "       [ 0.01250955,  0.03972138,  0.02756857, -0.02747928],\n",
       "       [ 0.01250955,  0.03972138,  0.02756857, -0.02747928],\n",
       "       [ 0.01250955,  0.03972138,  0.02756857, -0.02747928],\n",
       "       [ 0.01250955,  0.03972138,  0.02756857, -0.02747928],\n",
       "       [ 0.01250955,  0.03972138,  0.02756857, -0.02747928],\n",
       "       [ 0.01250955,  0.03972138,  0.02756857, -0.02747928],\n",
       "       [ 0.01250955,  0.03972138,  0.02756857, -0.02747928]],\n",
       "      dtype=float32)"
      ]
     },
     "execution_count": 7,
     "metadata": {},
     "output_type": "execute_result"
    }
   ],
   "source": [
    "parallel_env.reset() # num_envs x 4 states"
   ]
  },
  {
   "cell_type": "code",
   "execution_count": 8,
   "id": "b0929f39",
   "metadata": {},
   "outputs": [],
   "source": [
    "class PreprocessEnv(ParallelWrapper): ## to be able to work with pyTorch library\n",
    "    def __init__(self , parallel_env ):\n",
    "        ParallelWrapper.__init__(self, parallel_env)\n",
    "    \n",
    "    def reset(self):\n",
    "        state = self.venv.reset()\n",
    "        return torch.from_numpy(state).float()\n",
    "    \n",
    "    def step_async(self , actions):\n",
    "        actions = actions.squeeze().numpy()\n",
    "        self.venv.step_async(actions)\n",
    "        \n",
    "    def step_wait(self):\n",
    "        next_state , reward , done , info = self.venv.step_wait()\n",
    "        next_state = torch.from_numpy(next_state).float()\n",
    "        reward = torch.tensor(reward).unsqueeze(1).float()\n",
    "        done = torch.tensor(done).unsqueeze(1)\n",
    "        return next_state , reward , done , info"
   ]
  },
  {
   "cell_type": "code",
   "execution_count": 9,
   "id": "352130a5",
   "metadata": {},
   "outputs": [],
   "source": [
    "parallel_env = PreprocessEnv(parallel_env )"
   ]
  },
  {
   "cell_type": "code",
   "execution_count": 10,
   "id": "a55d64dc",
   "metadata": {},
   "outputs": [
    {
     "data": {
      "text/plain": [
       "tensor([[-0.0200,  0.0374, -0.0495,  0.0321],\n",
       "        [-0.0200,  0.0374, -0.0495,  0.0321],\n",
       "        [-0.0200,  0.0374, -0.0495,  0.0321],\n",
       "        [-0.0200,  0.0374, -0.0495,  0.0321],\n",
       "        [-0.0200,  0.0374, -0.0495,  0.0321],\n",
       "        [-0.0200,  0.0374, -0.0495,  0.0321],\n",
       "        [-0.0200,  0.0374, -0.0495,  0.0321],\n",
       "        [-0.0200,  0.0374, -0.0495,  0.0321]])"
      ]
     },
     "execution_count": 10,
     "metadata": {},
     "output_type": "execute_result"
    }
   ],
   "source": [
    "parallel_env.reset()"
   ]
  },
  {
   "cell_type": "code",
   "execution_count": 11,
   "id": "d81cba68",
   "metadata": {},
   "outputs": [
    {
     "data": {
      "text/plain": [
       "(tensor([[-0.0192, -0.1570, -0.0488,  0.3088],\n",
       "         [-0.0192, -0.1570, -0.0488,  0.3088],\n",
       "         [-0.0192, -0.1570, -0.0488,  0.3088],\n",
       "         [-0.0192, -0.1570, -0.0488,  0.3088],\n",
       "         [-0.0192, -0.1570, -0.0488,  0.3088],\n",
       "         [-0.0192, -0.1570, -0.0488,  0.3088],\n",
       "         [-0.0192, -0.1570, -0.0488,  0.3088],\n",
       "         [-0.0192, -0.1570, -0.0488,  0.3088]]),\n",
       " tensor([[1.],\n",
       "         [1.],\n",
       "         [1.],\n",
       "         [1.],\n",
       "         [1.],\n",
       "         [1.],\n",
       "         [1.],\n",
       "         [1.]]),\n",
       " tensor([[False],\n",
       "         [False],\n",
       "         [False],\n",
       "         [False],\n",
       "         [False],\n",
       "         [False],\n",
       "         [False],\n",
       "         [False]]),\n",
       " ({}, {}, {}, {}, {}, {}, {}, {}))"
      ]
     },
     "execution_count": 11,
     "metadata": {},
     "output_type": "execute_result"
    }
   ],
   "source": [
    "parallel_env.step(torch.zeros(num_envs,1 , dtype = torch.int32))"
   ]
  },
  {
   "cell_type": "code",
   "execution_count": 12,
   "id": "42001e0d",
   "metadata": {},
   "outputs": [
    {
     "data": {
      "text/plain": [
       "Sequential(\n",
       "  (0): Linear(in_features=4, out_features=128, bias=True)\n",
       "  (1): ReLU()\n",
       "  (2): Linear(in_features=128, out_features=64, bias=True)\n",
       "  (3): ReLU()\n",
       "  (4): Linear(in_features=64, out_features=2, bias=True)\n",
       "  (5): Softmax(dim=-1)\n",
       ")"
      ]
     },
     "execution_count": 12,
     "metadata": {},
     "output_type": "execute_result"
    }
   ],
   "source": [
    "policy = nn.Sequential(\n",
    "    nn.Linear(state_dims , 128),\n",
    "    nn.ReLU(),\n",
    "    nn.Linear(128 , 64),\n",
    "    nn.ReLU(),\n",
    "    nn.Linear(64,num_actions),\n",
    "    nn.Softmax(dim=-1))\n",
    "\n",
    "policy"
   ]
  },
  {
   "cell_type": "code",
   "execution_count": 13,
   "id": "417d7469",
   "metadata": {},
   "outputs": [],
   "source": [
    "def reinforce(policy , episodes , alpha=1e-4 , gamma = 0.99 , beta=1e-2 ):\n",
    "    optim = AdamW(policy.parameters() , lr = alpha)\n",
    "    stats = {'Performance' : [] , 'Returns' : []}\n",
    "    \n",
    "    for episode in tqdm(range(1 , episodes+1) ) :\n",
    "        state = parallel_env.reset()\n",
    "        done_b = torch.zeros((num_envs , 1),dtype=torch.bool)\n",
    "        transitions=[]\n",
    "        ep_return= torch.zeros((num_envs , 1))\n",
    "        \n",
    "        while not done_b.all():\n",
    "            action = policy(state).multinomial(1).detach()\n",
    "            next_state , reward , done , _ = parallel_env.step(action)\n",
    "            transitions.append([state , action , torch.logical_not(done_b) * reward])\n",
    "            ep_return += reward\n",
    "            done_b |= done\n",
    "            state = next_state\n",
    "            \n",
    "        G = torch.zeros((num_envs ,1))\n",
    "        \n",
    "        for t , (state_t , action_t , reward_t) in reversed(list(enumerate(transitions))):\n",
    "            G = reward_t + gamma*G\n",
    "            probs_t = policy(state_t)\n",
    "            log_probs_t = torch.log(probs_t + 1e-6)\n",
    "            action_log_prob_t = log_probs_t.gather( 1 ,action_t)\n",
    "            \n",
    "            entropy_t = - torch.sum(probs_t * log_probs_t , dim=1 , keepdim=True)\n",
    "            gamma_t = gamma ** t\n",
    "            \n",
    "            pg_loss = - (gamma_t * G * action_log_prob_t)\n",
    "            total_loss_t = (pg_loss - beta * entropy_t).mean()\n",
    "            \n",
    "            policy.zero_grad()\n",
    "            total_loss_t.backward()\n",
    "            optim.step()\n",
    "        stats['Performance'].append(total_loss_t.item())\n",
    "        stats['Returns'].append(ep_return.mean())\n",
    "        \n",
    "    return stats       "
   ]
  },
  {
   "cell_type": "code",
   "execution_count": 14,
   "id": "3b3f2383",
   "metadata": {},
   "outputs": [
    {
     "name": "stderr",
     "output_type": "stream",
     "text": [
      "100%|█████████████████████████████████████████████████████████████████████████| 500/500 [02:14<00:00,  3.73it/s]\n"
     ]
    }
   ],
   "source": [
    "parallel_env.reset()\n",
    "stats = reinforce(policy , 500)"
   ]
  },
  {
   "cell_type": "code",
   "execution_count": 17,
   "id": "b1dbc0be",
   "metadata": {},
   "outputs": [
    {
     "data": {
      "image/png": "[encoded data removed]",
      "text/plain": [
       "<Figure size 1200x600 with 2 Axes>"
      ]
     },
     "metadata": {},
     "output_type": "display_data"
    }
   ],
   "source": [
    "plot_stats(stats)"
   ]
  },
  {
   "cell_type": "code",
   "execution_count": 18,
   "id": "44d55861",
   "metadata": {},
   "outputs": [
    {
     "data": {
      "image/png": "[encoded data removed]",
      "text/plain": [
       "<Figure size 600x600 with 1 Axes>"
      ]
     },
     "metadata": {},
     "output_type": "display_data"
    }
   ],
   "source": [
    "%matplotlib inline\n",
    "test_policy_network(env , policy , 2)"
   ]
  }
 ],
 "metadata": {
  "kernelspec": {
   "display_name": "Python 3 (ipykernel)",
   "language": "python",
   "name": "python3"
  },
  "language_info": {
   "codemirror_mode": {
    "name": "ipython",
    "version": 3
   },
   "file_extension": ".py",
   "mimetype": "text/x-python",
   "name": "python",
   "nbconvert_exporter": "python",
   "pygments_lexer": "ipython3",
   "version": "3.9.12"
  }
 },
 "nbformat": 4,
 "nbformat_minor": 5
}
