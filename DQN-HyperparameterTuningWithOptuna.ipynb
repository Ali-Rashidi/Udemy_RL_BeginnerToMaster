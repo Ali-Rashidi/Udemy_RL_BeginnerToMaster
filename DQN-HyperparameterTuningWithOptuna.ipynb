{
 "cells": [
  {
   "cell_type": "markdown",
   "id": "b7bb01da",
   "metadata": {},
   "source": [
    "# DQN Hyperparameter tuning with Optuna"
   ]
  },
  {
   "cell_type": "markdown",
   "id": "46e2a751",
   "metadata": {},
   "source": [
    "Note: Use pytorch_lightning==1.6.0"
   ]
  },
  {
   "cell_type": "code",
   "execution_count": 4,
   "id": "8960d718",
   "metadata": {},
   "outputs": [
    {
     "name": "stdout",
     "output_type": "stream",
     "text": [
      "num gpus : 1\n"
     ]
    }
   ],
   "source": [
    "import copy\n",
    "import gym\n",
    "import torch\n",
    "import random\n",
    "import statistics\n",
    "\n",
    "import numpy as np\n",
    "import torch.nn.functional as F\n",
    "\n",
    "from collections import deque, namedtuple\n",
    "from IPython.display import HTML\n",
    "from base64 import b64encode\n",
    "\n",
    "from torch import Tensor, nn\n",
    "from torch.utils.data import DataLoader\n",
    "from torch.utils.data.dataset import IterableDataset\n",
    "from torch.optim import AdamW\n",
    "\n",
    "from pytorch_lightning import LightningModule, Trainer\n",
    "\n",
    "from pytorch_lightning.callbacks import EarlyStopping\n",
    "\n",
    "from gym.wrappers import RecordVideo, RecordEpisodeStatistics, TimeLimit\n",
    "import matplotlib.pyplot as plt\n",
    "%matplotlib inline\n",
    "\n",
    "import optuna\n",
    "from optuna.integration import PyTorchLightningPruningCallback\n",
    "device = 'cuda:0' if torch.cuda.is_available() else 'cpu'\n",
    "num_gpus = torch.cuda.device_count()\n",
    "print(f\"num gpus : {num_gpus}\")"
   ]
  },
  {
   "cell_type": "code",
   "execution_count": 5,
   "id": "4cb90c67",
   "metadata": {},
   "outputs": [],
   "source": [
    "## Creating Deep Q Network:\n",
    "class DQN(nn.Module):\n",
    "    def __init__ (self , hidden_size , obs_size , action_size):\n",
    "        super().__init__()\n",
    "        self.net = nn.Sequential(\n",
    "        nn.Linear(obs_size , hidden_size),\n",
    "        nn.ReLU(),\n",
    "        nn.Linear(hidden_size , hidden_size),\n",
    "        nn.ReLU(),\n",
    "        nn.Linear(hidden_size , action_size),\n",
    "        )\n",
    "    def forward(self , x):\n",
    "        return self.net(x.float())"
   ]
  },
  {
   "cell_type": "code",
   "execution_count": 6,
   "id": "58800a3e",
   "metadata": {},
   "outputs": [],
   "source": [
    "## Creating Policy: state -> action or action_probs\n",
    "def epsilon_greedy(state , env , net , epsilon=0):\n",
    "    if np.random.random() < epsilon :\n",
    "        action = env.action_space.sample()\n",
    "        \n",
    "    else:\n",
    "        state = torch.tensor([state]).to(device)\n",
    "        q_values = net(state)\n",
    "        _ , action = torch.max(q_values , dim=1) # returns (value , idx)\n",
    "        action = int(action.item())\n",
    "    \n",
    "    return action"
   ]
  },
  {
   "cell_type": "code",
   "execution_count": 7,
   "id": "4a59d93e",
   "metadata": {},
   "outputs": [],
   "source": [
    "## Creating Replay Buffer:\n",
    "class ReplayBuffer:\n",
    "    \n",
    "    def __init__(self , capacity):\n",
    "        self.buffer = deque(maxlen=capacity) #    it's like a list but manages its contents automaticly\n",
    "        \n",
    "    def __len__(self):\n",
    "        return len(self.buffer)\n",
    "    \n",
    "    def append(self, experience):\n",
    "        self.buffer.append(experience)\n",
    "    \n",
    "    def sample(self , batch_size):\n",
    "        return random.sample(self.buffer , batch_size)\n",
    "    "
   ]
  },
  {
   "cell_type": "code",
   "execution_count": 8,
   "id": "67b9a026",
   "metadata": {},
   "outputs": [],
   "source": [
    "class RLDataset(IterableDataset):\n",
    "    \n",
    "    def __init__ (self , buffer , sample_size = 200):\n",
    "        self.buffer = buffer\n",
    "        self.sample_size = sample_size\n",
    "        \n",
    "    def __iter__(self):\n",
    "        for experience in self.buffer.sample(self.sample_size):\n",
    "            yield experience # returns by request of pytorch\n",
    "     "
   ]
  },
  {
   "cell_type": "code",
   "execution_count": 9,
   "id": "9f8ae4ff",
   "metadata": {},
   "outputs": [],
   "source": [
    "## Creating Environment\n",
    "def create_environment(name):\n",
    "    env = gym.make(name)\n",
    "    env = TimeLimit(env , max_episode_steps = 400)  #terminates after 400 steps\n",
    "    env = RecordVideo(env , video_folder = './videos' , episode_trigger=lambda x: x%50==0 )\n",
    "    env = RecordEpisodeStatistics(env)\n",
    "    return env"
   ]
  },
  {
   "cell_type": "code",
   "execution_count": 10,
   "id": "99273df5",
   "metadata": {},
   "outputs": [],
   "source": [
    "class DeepQLearning(LightningModule):\n",
    "    \n",
    "    # intialize\n",
    "    def __init__(self , env_name , policy=epsilon_greedy , capacity=100_000 , batch_size=1024 , lr = 0.001 ,\n",
    "                 hidden_size=128 , gamma=0.99, loss_fn = F.smooth_l1_loss , optim = AdamW ,\n",
    "                eps_start = 1.0 , eps_end = 0.15 , eps_last_episode=100 , samples_per_epoch=10_000 ,\n",
    "                sync_rate=10):\n",
    "        super().__init__()\n",
    "        self.env = create_environment(env_name)\n",
    "        obs_size=self.env.observation_space.shape[0]\n",
    "        action_size = self.env.action_space.n\n",
    "        self.q_net=DQN(hidden_size , obs_size , action_size)\n",
    "        self.target_q_net=copy.deepcopy(self.q_net)\n",
    "        self.policy = policy\n",
    "        self.buffer = ReplayBuffer(capacity=capacity)\n",
    "        \n",
    "        self.save_hyperparameters()\n",
    "        \n",
    "        while len(self.buffer)  < self.hparams.samples_per_epoch:\n",
    "            self.play_episode(epsilon=self.hparams.eps_start)\n",
    "    \n",
    "    @torch.no_grad()\n",
    "    def play_episode(self ,policy=None ,  epsilon =0):\n",
    "        state = self.env.reset()\n",
    "        done = False\n",
    "        while not done :\n",
    "            \n",
    "            if policy:\n",
    "                action = policy(state , self.env , self.q_net , epsilon = epsilon)\n",
    "            else:\n",
    "                action = self.env.action_space.sample()\n",
    "            next_state , reward , done , _ = self.env.step(action)\n",
    "            exp = (state , action , reward , done , next_state)\n",
    "            self.buffer.append(exp)\n",
    "            state = next_state\n",
    "            \n",
    "        \n",
    "        \n",
    "    # forward\n",
    "    def forward(self , x):\n",
    "        return self.q_net(x)\n",
    "    \n",
    "    \n",
    "    # configure optimizers\n",
    "    def configure_optimizers(self):\n",
    "        q_net_optimizer = self.hparams.optim(self.q_net.parameters() , lr = self.hparams.lr)\n",
    "        return [q_net_optimizer]\n",
    "    \n",
    "    \n",
    "    # create dataloader\n",
    "    def train_dataloader(self):\n",
    "        dataset = RLDataset(self.buffer , self.hparams.samples_per_epoch)\n",
    "        dataloader = DataLoader(dataset=dataset ,batch_size=self.hparams.batch_size )\n",
    "        return dataloader\n",
    "    \n",
    "    \n",
    "    # training step\n",
    "    def training_step(self , batch , batch_idx):\n",
    "        states , actions , rewards , dones , next_states = batch\n",
    "        actions = actions.unsqueeze(1)\n",
    "        rewards = rewards.unsqueeze(1)\n",
    "        dones = dones.unsqueeze(1)\n",
    "        state_action_values = self.q_net(states).gather(1,actions)\n",
    "        next_action_values , _ = self.target_q_net(next_states).max(dim=1 , keepdim=True)\n",
    "        expected_state_action_values = rewards + self.hparams.gamma * next_action_values * (torch.logical_not(dones))\n",
    "        loss = self.hparams.loss_fn(state_action_values , expected_state_action_values )\n",
    "        self.log('episode/Q-error' , loss)\n",
    "        return loss\n",
    "        \n",
    "        \n",
    "    \n",
    "    # training epoch end\n",
    "    def training_epoch_end(self, training_step_outputs):\n",
    "        epsilon = max(self.hparams.eps_end , self.hparams.eps_start - self.current_epoch/self.hparams.eps_last_episode)\n",
    "        self.play_episode(policy=self.policy , epsilon=epsilon)\n",
    "        self.log('episode/Return' , self.env.return_queue[-1])\n",
    "        returns = list(self.env.return_queue)[-100:]\n",
    "        self.log('hp_metric',statistics.mean(returns))\n",
    "        \n",
    "        if self.current_epoch % self.hparams.sync_rate == 0:\n",
    "            self.target_q_net.load_state_dict(self.q_net.state_dict())\n",
    "        "
   ]
  },
  {
   "cell_type": "code",
   "execution_count": 11,
   "id": "61bfc5bf",
   "metadata": {},
   "outputs": [],
   "source": [
    "## Objective Function:\n",
    "def objective(trial):\n",
    "    lr = trial.suggest_float(\"lr\" , 1e-5 , 1e-1 , log=True) #logarithmic scale to not spend too much time searching on smaller values\n",
    "    gamma = trial.suggest_float(\"gamma\" , 0.0 , 1.0)\n",
    "    hidden_size = trial.suggest_int(\"hidden_size\" , low=16 , high=256 , step=16)\n",
    "    \n",
    "    algo = DeepQLearning(\"LunarLander-v2\" , lr=lr , gamma=gamma , hidden_size=hidden_size)\n",
    "    \n",
    "    callback = PyTorchLightningPruningCallback(trial , monitor = 'hp_metric')\n",
    "    trainer = Trainer(gpus=num_gpus , max_epochs=200 , callbacks=[])\n",
    "    \n",
    "    hyperparameters = dict(lr=lr , gamma=gamma , hidden_size=hidden_size)\n",
    "    trainer.logger.log_hyperparams(hyperparameters)\n",
    "    \n",
    "    trainer.fit(algo)\n",
    "    \n",
    "    return trainer.callback_metrics['hp_metric'].item()\n",
    "    "
   ]
  },
  {
   "cell_type": "code",
   "execution_count": 12,
   "id": "c67d52b2",
   "metadata": {},
   "outputs": [
    {
     "name": "stderr",
     "output_type": "stream",
     "text": [
      "[I 2023-07-27 16:54:30,051] A new study created in memory with name: no-name-3fec4476-a8c1-4c42-8bf7-31acd6928589\n"
     ]
    }
   ],
   "source": [
    "## Study:\n",
    "pruner = optuna.pruners.SuccessiveHalvingPruner()\n",
    "study = optuna.create_study(direction='maximize' , pruner = pruner)"
   ]
  },
  {
   "cell_type": "code",
   "execution_count": 13,
   "id": "69283a81",
   "metadata": {},
   "outputs": [
    {
     "name": "stderr",
     "output_type": "stream",
     "text": [
      "rm: cannot remove 'lightning_logs/': No such file or directory\n"
     ]
    },
    {
     "data": {
      "text/plain": [
       "Reusing TensorBoard on port 6006 (pid 13104), started 1:56:10 ago. (Use '!kill 13104' to kill it.)"
      ]
     },
     "metadata": {},
     "output_type": "display_data"
    },
    {
     "data": {
      "text/html": [
       "\n",
       "      <iframe id=\"tensorboard-frame-6d64d8af53333f83\" width=\"100%\" height=\"800\" frameborder=\"0\">\n",
       "      </iframe>\n",
       "      <script>\n",
       "        (function() {\n",
       "          const frame = document.getElementById(\"tensorboard-frame-6d64d8af53333f83\");\n",
       "          const url = new URL(\"/\", window.location);\n",
       "          const port = 6006;\n",
       "          if (port) {\n",
       "            url.port = port;\n",
       "          }\n",
       "          frame.src = url;\n",
       "        })();\n",
       "      </script>\n",
       "    "
      ],
      "text/plain": [
       "<IPython.core.display.HTML object>"
      ]
     },
     "metadata": {},
     "output_type": "display_data"
    }
   ],
   "source": [
    "!rm -r lightning_logs/\n",
    "!rm -r videos/\n",
    "%load_ext tensorboard\n",
    "%tensorboard --logdir lightning_logs/"
   ]
  },
  {
   "cell_type": "code",
   "execution_count": 14,
   "id": "479d9b5b",
   "metadata": {},
   "outputs": [
    {
     "name": "stderr",
     "output_type": "stream",
     "text": [
      "GPU available: True, used: True\n",
      "TPU available: False, using: 0 TPU cores\n",
      "IPU available: False, using: 0 IPUs\n",
      "HPU available: False, using: 0 HPUs\n",
      "LOCAL_RANK: 0 - CUDA_VISIBLE_DEVICES: [0]\n",
      "\n",
      "  | Name         | Type | Params\n",
      "--------------------------------------\n",
      "0 | q_net        | DQN  | 14.1 K\n",
      "1 | target_q_net | DQN  | 14.1 K\n",
      "--------------------------------------\n",
      "28.2 K    Trainable params\n",
      "0         Non-trainable params\n",
      "28.2 K    Total params\n",
      "0.113     Total estimated model params size (MB)\n",
      "C:\\ProgramData\\Anaconda3\\envs\\vrep\\lib\\site-packages\\pytorch_lightning\\trainer\\connectors\\data_connector.py:240: PossibleUserWarning: The dataloader, train_dataloader, does not have many workers which may be a bottleneck. Consider increasing the value of the `num_workers` argument` (try 16 which is the number of cpus on this machine) in the `DataLoader` init to improve performance.\n",
      "  rank_zero_warn(\n"
     ]
    },
    {
     "data": {
      "application/vnd.jupyter.widget-view+json": {
       "model_id": "dc9925f70b4d4baa8b9174979ce007e8",
       "version_major": 2,
       "version_minor": 0
      },
      "text/plain": [
       "Training: 0it [00:00, ?it/s]"
      ]
     },
     "metadata": {},
     "output_type": "display_data"
    },
    {
     "name": "stderr",
     "output_type": "stream",
     "text": [
      "C:\\Users\\Ali\\AppData\\Local\\Temp\\ipykernel_17176\\2993271317.py:7: UserWarning: Creating a tensor from a list of numpy.ndarrays is extremely slow. Please consider converting the list to a single numpy.ndarray with numpy.array() before converting to a tensor. (Triggered internally at C:\\actions-runner\\_work\\pytorch\\pytorch\\builder\\windows\\pytorch\\torch\\csrc\\utils\\tensor_new.cpp:248.)\n",
      "  state = torch.tensor([state]).to(device)\n",
      "[I 2023-07-27 16:55:50,723] Trial 0 finished with value: -71.73099517822266 and parameters: {'lr': 0.0007912637499326837, 'gamma': 0.02614805920645935, 'hidden_size': 112}. Best is trial 0 with value: -71.73099517822266.\n",
      "C:\\ProgramData\\Anaconda3\\envs\\vrep\\lib\\site-packages\\gym\\wrappers\\record_video.py:41: UserWarning: \u001b[33mWARN: Overwriting existing videos at C:\\Users\\Ali\\Documents\\RLwithPhil\\code\\videos folder (try specifying a different `video_folder` for the `RecordVideo` wrapper if this is not desired)\u001b[0m\n",
      "  logger.warn(\n",
      "GPU available: True, used: True\n",
      "TPU available: False, using: 0 TPU cores\n",
      "IPU available: False, using: 0 IPUs\n",
      "HPU available: False, using: 0 HPUs\n",
      "LOCAL_RANK: 0 - CUDA_VISIBLE_DEVICES: [0]\n",
      "\n",
      "  | Name         | Type | Params\n",
      "--------------------------------------\n",
      "0 | q_net        | DQN  | 46.2 K\n",
      "1 | target_q_net | DQN  | 46.2 K\n",
      "--------------------------------------\n",
      "92.4 K    Trainable params\n",
      "0         Non-trainable params\n",
      "92.4 K    Total params\n",
      "0.369     Total estimated model params size (MB)\n"
     ]
    },
    {
     "data": {
      "application/vnd.jupyter.widget-view+json": {
       "model_id": "6941b26a367544948d3bdbed59602461",
       "version_major": 2,
       "version_minor": 0
      },
      "text/plain": [
       "Training: 0it [00:00, ?it/s]"
      ]
     },
     "metadata": {},
     "output_type": "display_data"
    },
    {
     "name": "stderr",
     "output_type": "stream",
     "text": [
      "Exception ignored in: <function Viewer.__del__ at 0x00000226AFA6EA60>\n",
      "Traceback (most recent call last):\n",
      "  File \"C:\\ProgramData\\Anaconda3\\envs\\vrep\\lib\\site-packages\\gym\\envs\\classic_control\\rendering.py\", line 185, in __del__\n",
      "    self.close()\n",
      "  File \"C:\\ProgramData\\Anaconda3\\envs\\vrep\\lib\\site-packages\\gym\\envs\\classic_control\\rendering.py\", line 101, in close\n",
      "    self.window.close()\n",
      "  File \"C:\\ProgramData\\Anaconda3\\envs\\vrep\\lib\\site-packages\\pyglet\\window\\win32\\__init__.py\", line 332, in close\n",
      "    super(Win32Window, self).close()\n",
      "  File \"C:\\ProgramData\\Anaconda3\\envs\\vrep\\lib\\site-packages\\pyglet\\window\\__init__.py\", line 858, in close\n",
      "    app.windows.remove(self)\n",
      "  File \"C:\\ProgramData\\Anaconda3\\envs\\vrep\\lib\\_weakrefset.py\", line 114, in remove\n",
      "    self.data.remove(ref(item))\n",
      "KeyError: <weakref at 0x00000226AFA26310; to 'Win32Window' at 0x00000226A8619C10>\n",
      "[I 2023-07-27 16:57:15,023] Trial 1 finished with value: -42.322547912597656 and parameters: {'lr': 0.0010154155294917794, 'gamma': 0.5452251935810926, 'hidden_size': 208}. Best is trial 1 with value: -42.322547912597656.\n",
      "GPU available: True, used: True\n",
      "TPU available: False, using: 0 TPU cores\n",
      "IPU available: False, using: 0 IPUs\n",
      "HPU available: False, using: 0 HPUs\n",
      "LOCAL_RANK: 0 - CUDA_VISIBLE_DEVICES: [0]\n",
      "\n",
      "  | Name         | Type | Params\n",
      "--------------------------------------\n",
      "0 | q_net        | DQN  | 1.5 K \n",
      "1 | target_q_net | DQN  | 1.5 K \n",
      "--------------------------------------\n",
      "3.0 K     Trainable params\n",
      "0         Non-trainable params\n",
      "3.0 K     Total params\n",
      "0.012     Total estimated model params size (MB)\n"
     ]
    },
    {
     "data": {
      "application/vnd.jupyter.widget-view+json": {
       "model_id": "bba4b2fabbf9474ab9e1a3a8ff0089ed",
       "version_major": 2,
       "version_minor": 0
      },
      "text/plain": [
       "Training: 0it [00:00, ?it/s]"
      ]
     },
     "metadata": {},
     "output_type": "display_data"
    },
    {
     "name": "stderr",
     "output_type": "stream",
     "text": [
      "Exception ignored in: <function Viewer.__del__ at 0x00000226AFA6EA60>\n",
      "Traceback (most recent call last):\n",
      "  File \"C:\\ProgramData\\Anaconda3\\envs\\vrep\\lib\\site-packages\\gym\\envs\\classic_control\\rendering.py\", line 185, in __del__\n",
      "    self.close()\n",
      "  File \"C:\\ProgramData\\Anaconda3\\envs\\vrep\\lib\\site-packages\\gym\\envs\\classic_control\\rendering.py\", line 101, in close\n",
      "    self.window.close()\n",
      "  File \"C:\\ProgramData\\Anaconda3\\envs\\vrep\\lib\\site-packages\\pyglet\\window\\win32\\__init__.py\", line 332, in close\n",
      "    super(Win32Window, self).close()\n",
      "  File \"C:\\ProgramData\\Anaconda3\\envs\\vrep\\lib\\site-packages\\pyglet\\window\\__init__.py\", line 858, in close\n",
      "    app.windows.remove(self)\n",
      "  File \"C:\\ProgramData\\Anaconda3\\envs\\vrep\\lib\\_weakrefset.py\", line 114, in remove\n",
      "    self.data.remove(ref(item))\n",
      "KeyError: <weakref at 0x000002276E8ED540; to 'Win32Window' at 0x0000022765F6B910>\n",
      "[I 2023-07-27 16:58:38,204] Trial 2 finished with value: -48.804439544677734 and parameters: {'lr': 0.014094220029630601, 'gamma': 0.5539121851215669, 'hidden_size': 32}. Best is trial 1 with value: -42.322547912597656.\n",
      "GPU available: True, used: True\n",
      "TPU available: False, using: 0 TPU cores\n",
      "IPU available: False, using: 0 IPUs\n",
      "HPU available: False, using: 0 HPUs\n",
      "LOCAL_RANK: 0 - CUDA_VISIBLE_DEVICES: [0]\n",
      "\n",
      "  | Name         | Type | Params\n",
      "--------------------------------------\n",
      "0 | q_net        | DQN  | 61.0 K\n",
      "1 | target_q_net | DQN  | 61.0 K\n",
      "--------------------------------------\n",
      "121 K     Trainable params\n",
      "0         Non-trainable params\n",
      "121 K     Total params\n",
      "0.488     Total estimated model params size (MB)\n"
     ]
    },
    {
     "data": {
      "application/vnd.jupyter.widget-view+json": {
       "model_id": "0fb0d5621e7046f39a7ef3342ef2c27a",
       "version_major": 2,
       "version_minor": 0
      },
      "text/plain": [
       "Training: 0it [00:00, ?it/s]"
      ]
     },
     "metadata": {},
     "output_type": "display_data"
    },
    {
     "name": "stderr",
     "output_type": "stream",
     "text": [
      "Exception ignored in: <function Viewer.__del__ at 0x00000226AFA6EA60>\n",
      "Traceback (most recent call last):\n",
      "  File \"C:\\ProgramData\\Anaconda3\\envs\\vrep\\lib\\site-packages\\gym\\envs\\classic_control\\rendering.py\", line 185, in __del__\n",
      "    self.close()\n",
      "  File \"C:\\ProgramData\\Anaconda3\\envs\\vrep\\lib\\site-packages\\gym\\envs\\classic_control\\rendering.py\", line 101, in close\n",
      "    self.window.close()\n",
      "  File \"C:\\ProgramData\\Anaconda3\\envs\\vrep\\lib\\site-packages\\pyglet\\window\\win32\\__init__.py\", line 332, in close\n",
      "    super(Win32Window, self).close()\n",
      "  File \"C:\\ProgramData\\Anaconda3\\envs\\vrep\\lib\\site-packages\\pyglet\\window\\__init__.py\", line 858, in close\n",
      "    app.windows.remove(self)\n",
      "  File \"C:\\ProgramData\\Anaconda3\\envs\\vrep\\lib\\_weakrefset.py\", line 114, in remove\n",
      "    self.data.remove(ref(item))\n",
      "KeyError: <weakref at 0x000002272FF4B4A0; to 'Win32Window' at 0x00000226C10680D0>\n",
      "[I 2023-07-27 17:00:09,263] Trial 3 finished with value: -87.79645538330078 and parameters: {'lr': 9.16275109628167e-05, 'gamma': 0.46949681688149036, 'hidden_size': 240}. Best is trial 1 with value: -42.322547912597656.\n",
      "GPU available: True, used: True\n",
      "TPU available: False, using: 0 TPU cores\n",
      "IPU available: False, using: 0 IPUs\n",
      "HPU available: False, using: 0 HPUs\n",
      "LOCAL_RANK: 0 - CUDA_VISIBLE_DEVICES: [0]\n",
      "\n",
      "  | Name         | Type | Params\n",
      "--------------------------------------\n",
      "0 | q_net        | DQN  | 7.5 K \n",
      "1 | target_q_net | DQN  | 7.5 K \n",
      "--------------------------------------\n",
      "15.0 K    Trainable params\n",
      "0         Non-trainable params\n",
      "15.0 K    Total params\n",
      "0.060     Total estimated model params size (MB)\n"
     ]
    },
    {
     "data": {
      "application/vnd.jupyter.widget-view+json": {
       "model_id": "f0fb5d177744441980a9a850b661953c",
       "version_major": 2,
       "version_minor": 0
      },
      "text/plain": [
       "Training: 0it [00:00, ?it/s]"
      ]
     },
     "metadata": {},
     "output_type": "display_data"
    },
    {
     "name": "stderr",
     "output_type": "stream",
     "text": [
      "Exception ignored in: <function Viewer.__del__ at 0x00000226AFA6EA60>\n",
      "Traceback (most recent call last):\n",
      "  File \"C:\\ProgramData\\Anaconda3\\envs\\vrep\\lib\\site-packages\\gym\\envs\\classic_control\\rendering.py\", line 185, in __del__\n",
      "    self.close()\n",
      "  File \"C:\\ProgramData\\Anaconda3\\envs\\vrep\\lib\\site-packages\\gym\\envs\\classic_control\\rendering.py\", line 101, in close\n",
      "    self.window.close()\n",
      "  File \"C:\\ProgramData\\Anaconda3\\envs\\vrep\\lib\\site-packages\\pyglet\\window\\win32\\__init__.py\", line 332, in close\n",
      "    super(Win32Window, self).close()\n",
      "  File \"C:\\ProgramData\\Anaconda3\\envs\\vrep\\lib\\site-packages\\pyglet\\window\\__init__.py\", line 858, in close\n",
      "    app.windows.remove(self)\n",
      "  File \"C:\\ProgramData\\Anaconda3\\envs\\vrep\\lib\\_weakrefset.py\", line 114, in remove\n",
      "    self.data.remove(ref(item))\n",
      "KeyError: <weakref at 0x00000226B810CD60; to 'Win32Window' at 0x00000226B4AA0DF0>\n",
      "[I 2023-07-27 17:01:06,833] Trial 4 finished with value: -327.2330017089844 and parameters: {'lr': 1.9295090125652937e-05, 'gamma': 0.2009974611443912, 'hidden_size': 80}. Best is trial 1 with value: -42.322547912597656.\n",
      "GPU available: True, used: True\n",
      "TPU available: False, using: 0 TPU cores\n",
      "IPU available: False, using: 0 IPUs\n",
      "HPU available: False, using: 0 HPUs\n",
      "LOCAL_RANK: 0 - CUDA_VISIBLE_DEVICES: [0]\n",
      "\n",
      "  | Name         | Type | Params\n",
      "--------------------------------------\n",
      "0 | q_net        | DQN  | 484   \n",
      "1 | target_q_net | DQN  | 484   \n",
      "--------------------------------------\n",
      "968       Trainable params\n",
      "0         Non-trainable params\n",
      "968       Total params\n",
      "0.004     Total estimated model params size (MB)\n"
     ]
    },
    {
     "data": {
      "application/vnd.jupyter.widget-view+json": {
       "model_id": "9d0ec0d4e0ca43108cb4befe6879e6c1",
       "version_major": 2,
       "version_minor": 0
      },
      "text/plain": [
       "Training: 0it [00:00, ?it/s]"
      ]
     },
     "metadata": {},
     "output_type": "display_data"
    },
    {
     "name": "stderr",
     "output_type": "stream",
     "text": [
      "Exception ignored in: <function Viewer.__del__ at 0x00000226AFA6EA60>\n",
      "Traceback (most recent call last):\n",
      "  File \"C:\\ProgramData\\Anaconda3\\envs\\vrep\\lib\\site-packages\\gym\\envs\\classic_control\\rendering.py\", line 185, in __del__\n",
      "    self.close()\n",
      "  File \"C:\\ProgramData\\Anaconda3\\envs\\vrep\\lib\\site-packages\\gym\\envs\\classic_control\\rendering.py\", line 101, in close\n",
      "    self.window.close()\n",
      "  File \"C:\\ProgramData\\Anaconda3\\envs\\vrep\\lib\\site-packages\\pyglet\\window\\win32\\__init__.py\", line 332, in close\n",
      "    super(Win32Window, self).close()\n",
      "  File \"C:\\ProgramData\\Anaconda3\\envs\\vrep\\lib\\site-packages\\pyglet\\window\\__init__.py\", line 858, in close\n",
      "    app.windows.remove(self)\n",
      "  File \"C:\\ProgramData\\Anaconda3\\envs\\vrep\\lib\\_weakrefset.py\", line 114, in remove\n",
      "    self.data.remove(ref(item))\n",
      "KeyError: <weakref at 0x0000022729DAFEF0; to 'Win32Window' at 0x00000227494D0190>\n",
      "[I 2023-07-27 17:02:49,208] Trial 5 finished with value: -77.34109497070312 and parameters: {'lr': 0.00763667621038851, 'gamma': 0.7151421114219334, 'hidden_size': 16}. Best is trial 1 with value: -42.322547912597656.\n",
      "GPU available: True, used: True\n",
      "TPU available: False, using: 0 TPU cores\n",
      "IPU available: False, using: 0 IPUs\n",
      "HPU available: False, using: 0 HPUs\n",
      "LOCAL_RANK: 0 - CUDA_VISIBLE_DEVICES: [0]\n",
      "\n",
      "  | Name         | Type | Params\n",
      "--------------------------------------\n",
      "0 | q_net        | DQN  | 69.1 K\n",
      "1 | target_q_net | DQN  | 69.1 K\n",
      "--------------------------------------\n",
      "138 K     Trainable params\n",
      "0         Non-trainable params\n",
      "138 K     Total params\n",
      "0.553     Total estimated model params size (MB)\n"
     ]
    },
    {
     "data": {
      "application/vnd.jupyter.widget-view+json": {
       "model_id": "7ee625b4f6de4337a93ed3d00082345c",
       "version_major": 2,
       "version_minor": 0
      },
      "text/plain": [
       "Training: 0it [00:00, ?it/s]"
      ]
     },
     "metadata": {},
     "output_type": "display_data"
    },
    {
     "name": "stderr",
     "output_type": "stream",
     "text": [
      "Exception ignored in: <function Viewer.__del__ at 0x00000226AFA6EA60>\n",
      "Traceback (most recent call last):\n",
      "  File \"C:\\ProgramData\\Anaconda3\\envs\\vrep\\lib\\site-packages\\gym\\envs\\classic_control\\rendering.py\", line 185, in __del__\n",
      "    self.close()\n",
      "  File \"C:\\ProgramData\\Anaconda3\\envs\\vrep\\lib\\site-packages\\gym\\envs\\classic_control\\rendering.py\", line 101, in close\n",
      "    self.window.close()\n",
      "  File \"C:\\ProgramData\\Anaconda3\\envs\\vrep\\lib\\site-packages\\pyglet\\window\\win32\\__init__.py\", line 332, in close\n",
      "    super(Win32Window, self).close()\n",
      "  File \"C:\\ProgramData\\Anaconda3\\envs\\vrep\\lib\\site-packages\\pyglet\\window\\__init__.py\", line 858, in close\n",
      "    app.windows.remove(self)\n",
      "  File \"C:\\ProgramData\\Anaconda3\\envs\\vrep\\lib\\_weakrefset.py\", line 114, in remove\n",
      "    self.data.remove(ref(item))\n",
      "KeyError: <weakref at 0x000002277F230400; to 'Win32Window' at 0x000002275E30BEE0>\n",
      "[I 2023-07-27 17:04:16,780] Trial 6 finished with value: -66.2492904663086 and parameters: {'lr': 0.009566616443292713, 'gamma': 0.5188347758779998, 'hidden_size': 256}. Best is trial 1 with value: -42.322547912597656.\n",
      "GPU available: True, used: True\n",
      "TPU available: False, using: 0 TPU cores\n",
      "IPU available: False, using: 0 IPUs\n",
      "HPU available: False, using: 0 HPUs\n",
      "LOCAL_RANK: 0 - CUDA_VISIBLE_DEVICES: [0]\n",
      "\n",
      "  | Name         | Type | Params\n",
      "--------------------------------------\n",
      "0 | q_net        | DQN  | 22.8 K\n",
      "1 | target_q_net | DQN  | 22.8 K\n",
      "--------------------------------------\n",
      "45.5 K    Trainable params\n",
      "0         Non-trainable params\n",
      "45.5 K    Total params\n",
      "0.182     Total estimated model params size (MB)\n"
     ]
    },
    {
     "data": {
      "application/vnd.jupyter.widget-view+json": {
       "model_id": "7f090666ac224cc3bad09b52c655f5c9",
       "version_major": 2,
       "version_minor": 0
      },
      "text/plain": [
       "Training: 0it [00:00, ?it/s]"
      ]
     },
     "metadata": {},
     "output_type": "display_data"
    },
    {
     "name": "stderr",
     "output_type": "stream",
     "text": [
      "Exception ignored in: <function Viewer.__del__ at 0x00000226AFA6EA60>\n",
      "Traceback (most recent call last):\n",
      "  File \"C:\\ProgramData\\Anaconda3\\envs\\vrep\\lib\\site-packages\\gym\\envs\\classic_control\\rendering.py\", line 185, in __del__\n",
      "    self.close()\n",
      "  File \"C:\\ProgramData\\Anaconda3\\envs\\vrep\\lib\\site-packages\\gym\\envs\\classic_control\\rendering.py\", line 101, in close\n",
      "    self.window.close()\n",
      "  File \"C:\\ProgramData\\Anaconda3\\envs\\vrep\\lib\\site-packages\\pyglet\\window\\win32\\__init__.py\", line 332, in close\n",
      "    super(Win32Window, self).close()\n",
      "  File \"C:\\ProgramData\\Anaconda3\\envs\\vrep\\lib\\site-packages\\pyglet\\window\\__init__.py\", line 858, in close\n",
      "    app.windows.remove(self)\n",
      "  File \"C:\\ProgramData\\Anaconda3\\envs\\vrep\\lib\\_weakrefset.py\", line 114, in remove\n",
      "    self.data.remove(ref(item))\n",
      "KeyError: <weakref at 0x000002276A579EA0; to 'Win32Window' at 0x000002277B5E0CA0>\n",
      "[I 2023-07-27 17:05:54,705] Trial 7 finished with value: -70.26634216308594 and parameters: {'lr': 0.00010843811753761367, 'gamma': 0.3312932106913715, 'hidden_size': 144}. Best is trial 1 with value: -42.322547912597656.\n",
      "GPU available: True, used: True\n",
      "TPU available: False, using: 0 TPU cores\n",
      "IPU available: False, using: 0 IPUs\n",
      "HPU available: False, using: 0 HPUs\n",
      "LOCAL_RANK: 0 - CUDA_VISIBLE_DEVICES: [0]\n",
      "\n",
      "  | Name         | Type | Params\n",
      "--------------------------------------\n",
      "0 | q_net        | DQN  | 39.6 K\n",
      "1 | target_q_net | DQN  | 39.6 K\n",
      "--------------------------------------\n",
      "79.1 K    Trainable params\n",
      "0         Non-trainable params\n",
      "79.1 K    Total params\n",
      "0.316     Total estimated model params size (MB)\n"
     ]
    },
    {
     "data": {
      "application/vnd.jupyter.widget-view+json": {
       "model_id": "8566a1f39459425184332aa8e84f014a",
       "version_major": 2,
       "version_minor": 0
      },
      "text/plain": [
       "Training: 0it [00:00, ?it/s]"
      ]
     },
     "metadata": {},
     "output_type": "display_data"
    },
    {
     "name": "stderr",
     "output_type": "stream",
     "text": [
      "Exception ignored in: <function Viewer.__del__ at 0x00000226AFA6EA60>\n",
      "Traceback (most recent call last):\n",
      "  File \"C:\\ProgramData\\Anaconda3\\envs\\vrep\\lib\\site-packages\\gym\\envs\\classic_control\\rendering.py\", line 185, in __del__\n",
      "    self.close()\n",
      "  File \"C:\\ProgramData\\Anaconda3\\envs\\vrep\\lib\\site-packages\\gym\\envs\\classic_control\\rendering.py\", line 101, in close\n",
      "    self.window.close()\n",
      "  File \"C:\\ProgramData\\Anaconda3\\envs\\vrep\\lib\\site-packages\\pyglet\\window\\win32\\__init__.py\", line 332, in close\n",
      "    super(Win32Window, self).close()\n",
      "  File \"C:\\ProgramData\\Anaconda3\\envs\\vrep\\lib\\site-packages\\pyglet\\window\\__init__.py\", line 858, in close\n",
      "    app.windows.remove(self)\n",
      "  File \"C:\\ProgramData\\Anaconda3\\envs\\vrep\\lib\\_weakrefset.py\", line 114, in remove\n",
      "    self.data.remove(ref(item))\n",
      "KeyError: <weakref at 0x00000226FD0873B0; to 'Win32Window' at 0x00000226C10D7C40>\n",
      "[I 2023-07-27 17:07:26,263] Trial 8 finished with value: -67.11900329589844 and parameters: {'lr': 0.030629549857479333, 'gamma': 0.2681659553183279, 'hidden_size': 192}. Best is trial 1 with value: -42.322547912597656.\n",
      "GPU available: True, used: True\n",
      "TPU available: False, using: 0 TPU cores\n",
      "IPU available: False, using: 0 IPUs\n",
      "HPU available: False, using: 0 HPUs\n",
      "LOCAL_RANK: 0 - CUDA_VISIBLE_DEVICES: [0]\n",
      "\n",
      "  | Name         | Type | Params\n",
      "--------------------------------------\n",
      "0 | q_net        | DQN  | 5.0 K \n",
      "1 | target_q_net | DQN  | 5.0 K \n",
      "--------------------------------------\n",
      "10.0 K    Trainable params\n",
      "0         Non-trainable params\n",
      "10.0 K    Total params\n",
      "0.040     Total estimated model params size (MB)\n"
     ]
    },
    {
     "data": {
      "application/vnd.jupyter.widget-view+json": {
       "model_id": "79d0015feb914b6aaec4d828051d638e",
       "version_major": 2,
       "version_minor": 0
      },
      "text/plain": [
       "Training: 0it [00:00, ?it/s]"
      ]
     },
     "metadata": {},
     "output_type": "display_data"
    },
    {
     "name": "stderr",
     "output_type": "stream",
     "text": [
      "Exception ignored in: <function Viewer.__del__ at 0x00000226AFA6EA60>\n",
      "Traceback (most recent call last):\n",
      "  File \"C:\\ProgramData\\Anaconda3\\envs\\vrep\\lib\\site-packages\\gym\\envs\\classic_control\\rendering.py\", line 185, in __del__\n",
      "    self.close()\n",
      "  File \"C:\\ProgramData\\Anaconda3\\envs\\vrep\\lib\\site-packages\\gym\\envs\\classic_control\\rendering.py\", line 101, in close\n",
      "    self.window.close()\n",
      "  File \"C:\\ProgramData\\Anaconda3\\envs\\vrep\\lib\\site-packages\\pyglet\\window\\win32\\__init__.py\", line 332, in close\n",
      "    super(Win32Window, self).close()\n",
      "  File \"C:\\ProgramData\\Anaconda3\\envs\\vrep\\lib\\site-packages\\pyglet\\window\\__init__.py\", line 858, in close\n",
      "    app.windows.remove(self)\n",
      "  File \"C:\\ProgramData\\Anaconda3\\envs\\vrep\\lib\\_weakrefset.py\", line 114, in remove\n",
      "    self.data.remove(ref(item))\n",
      "KeyError: <weakref at 0x000002276A55EC20; to 'Win32Window' at 0x00000226B91D3E20>\n",
      "[I 2023-07-27 17:08:52,665] Trial 9 finished with value: -62.13378143310547 and parameters: {'lr': 0.01178229903454039, 'gamma': 0.31789735519742335, 'hidden_size': 64}. Best is trial 1 with value: -42.322547912597656.\n",
      "GPU available: True, used: True\n",
      "TPU available: False, using: 0 TPU cores\n",
      "IPU available: False, using: 0 IPUs\n",
      "HPU available: False, using: 0 HPUs\n",
      "LOCAL_RANK: 0 - CUDA_VISIBLE_DEVICES: [0]\n",
      "\n",
      "  | Name         | Type | Params\n",
      "--------------------------------------\n",
      "0 | q_net        | DQN  | 39.6 K\n",
      "1 | target_q_net | DQN  | 39.6 K\n",
      "--------------------------------------\n",
      "79.1 K    Trainable params\n",
      "0         Non-trainable params\n",
      "79.1 K    Total params\n",
      "0.316     Total estimated model params size (MB)\n"
     ]
    },
    {
     "data": {
      "application/vnd.jupyter.widget-view+json": {
       "model_id": "1171a595d2644b8189735869804ab930",
       "version_major": 2,
       "version_minor": 0
      },
      "text/plain": [
       "Training: 0it [00:00, ?it/s]"
      ]
     },
     "metadata": {},
     "output_type": "display_data"
    },
    {
     "name": "stderr",
     "output_type": "stream",
     "text": [
      "Exception ignored in: <function Viewer.__del__ at 0x00000226AFA6EA60>\n",
      "Traceback (most recent call last):\n",
      "  File \"C:\\ProgramData\\Anaconda3\\envs\\vrep\\lib\\site-packages\\gym\\envs\\classic_control\\rendering.py\", line 185, in __del__\n",
      "    self.close()\n",
      "  File \"C:\\ProgramData\\Anaconda3\\envs\\vrep\\lib\\site-packages\\gym\\envs\\classic_control\\rendering.py\", line 101, in close\n",
      "    self.window.close()\n",
      "  File \"C:\\ProgramData\\Anaconda3\\envs\\vrep\\lib\\site-packages\\pyglet\\window\\win32\\__init__.py\", line 332, in close\n",
      "    super(Win32Window, self).close()\n",
      "  File \"C:\\ProgramData\\Anaconda3\\envs\\vrep\\lib\\site-packages\\pyglet\\window\\__init__.py\", line 858, in close\n",
      "    app.windows.remove(self)\n",
      "  File \"C:\\ProgramData\\Anaconda3\\envs\\vrep\\lib\\_weakrefset.py\", line 114, in remove\n",
      "    self.data.remove(ref(item))\n",
      "KeyError: <weakref at 0x00000226B80896D0; to 'Win32Window' at 0x00000226B4AA0D00>\n",
      "[I 2023-07-27 17:10:31,689] Trial 10 finished with value: -14.531746864318848 and parameters: {'lr': 0.001157407434581816, 'gamma': 0.9996788511937209, 'hidden_size': 192}. Best is trial 10 with value: -14.531746864318848.\n",
      "GPU available: True, used: True\n",
      "TPU available: False, using: 0 TPU cores\n",
      "IPU available: False, using: 0 IPUs\n",
      "HPU available: False, using: 0 HPUs\n",
      "LOCAL_RANK: 0 - CUDA_VISIBLE_DEVICES: [0]\n",
      "\n",
      "  | Name         | Type | Params\n",
      "--------------------------------------\n",
      "0 | q_net        | DQN  | 39.6 K\n",
      "1 | target_q_net | DQN  | 39.6 K\n",
      "--------------------------------------\n",
      "79.1 K    Trainable params\n",
      "0         Non-trainable params\n",
      "79.1 K    Total params\n",
      "0.316     Total estimated model params size (MB)\n"
     ]
    },
    {
     "data": {
      "application/vnd.jupyter.widget-view+json": {
       "model_id": "cebec29a51824840a59c0e569dc1213a",
       "version_major": 2,
       "version_minor": 0
      },
      "text/plain": [
       "Training: 0it [00:00, ?it/s]"
      ]
     },
     "metadata": {},
     "output_type": "display_data"
    },
    {
     "name": "stderr",
     "output_type": "stream",
     "text": [
      "Exception ignored in: <function Viewer.__del__ at 0x00000226AFA6EA60>\n",
      "Traceback (most recent call last):\n",
      "  File \"C:\\ProgramData\\Anaconda3\\envs\\vrep\\lib\\site-packages\\gym\\envs\\classic_control\\rendering.py\", line 185, in __del__\n",
      "    self.close()\n",
      "  File \"C:\\ProgramData\\Anaconda3\\envs\\vrep\\lib\\site-packages\\gym\\envs\\classic_control\\rendering.py\", line 101, in close\n",
      "    self.window.close()\n",
      "  File \"C:\\ProgramData\\Anaconda3\\envs\\vrep\\lib\\site-packages\\pyglet\\window\\win32\\__init__.py\", line 332, in close\n",
      "    super(Win32Window, self).close()\n",
      "  File \"C:\\ProgramData\\Anaconda3\\envs\\vrep\\lib\\site-packages\\pyglet\\window\\__init__.py\", line 858, in close\n",
      "    app.windows.remove(self)\n",
      "  File \"C:\\ProgramData\\Anaconda3\\envs\\vrep\\lib\\_weakrefset.py\", line 114, in remove\n",
      "    self.data.remove(ref(item))\n",
      "KeyError: <weakref at 0x000002278CC10360; to 'Win32Window' at 0x00000227155D1490>\n",
      "[I 2023-07-27 17:12:00,892] Trial 11 finished with value: -25.439970016479492 and parameters: {'lr': 0.0013709202376380807, 'gamma': 0.8819797140628867, 'hidden_size': 192}. Best is trial 10 with value: -14.531746864318848.\n",
      "GPU available: True, used: True\n",
      "TPU available: False, using: 0 TPU cores\n",
      "IPU available: False, using: 0 IPUs\n",
      "HPU available: False, using: 0 HPUs\n",
      "LOCAL_RANK: 0 - CUDA_VISIBLE_DEVICES: [0]\n",
      "\n",
      "  | Name         | Type | Params\n",
      "--------------------------------------\n",
      "0 | q_net        | DQN  | 27.8 K\n",
      "1 | target_q_net | DQN  | 27.8 K\n",
      "--------------------------------------\n",
      "55.7 K    Trainable params\n",
      "0         Non-trainable params\n",
      "55.7 K    Total params\n",
      "0.223     Total estimated model params size (MB)\n"
     ]
    },
    {
     "data": {
      "application/vnd.jupyter.widget-view+json": {
       "model_id": "b8984b4e0db0411cb3c8b0851ae523f9",
       "version_major": 2,
       "version_minor": 0
      },
      "text/plain": [
       "Training: 0it [00:00, ?it/s]"
      ]
     },
     "metadata": {},
     "output_type": "display_data"
    },
    {
     "name": "stderr",
     "output_type": "stream",
     "text": [
      "Exception ignored in: <function Viewer.__del__ at 0x00000226AFA6EA60>\n",
      "Traceback (most recent call last):\n",
      "  File \"C:\\ProgramData\\Anaconda3\\envs\\vrep\\lib\\site-packages\\gym\\envs\\classic_control\\rendering.py\", line 185, in __del__\n",
      "    self.close()\n",
      "  File \"C:\\ProgramData\\Anaconda3\\envs\\vrep\\lib\\site-packages\\gym\\envs\\classic_control\\rendering.py\", line 101, in close\n",
      "    self.window.close()\n",
      "  File \"C:\\ProgramData\\Anaconda3\\envs\\vrep\\lib\\site-packages\\pyglet\\window\\win32\\__init__.py\", line 332, in close\n",
      "    super(Win32Window, self).close()\n",
      "  File \"C:\\ProgramData\\Anaconda3\\envs\\vrep\\lib\\site-packages\\pyglet\\window\\__init__.py\", line 858, in close\n",
      "    app.windows.remove(self)\n",
      "  File \"C:\\ProgramData\\Anaconda3\\envs\\vrep\\lib\\_weakrefset.py\", line 114, in remove\n",
      "    self.data.remove(ref(item))\n",
      "KeyError: <weakref at 0x000002278937F1D0; to 'Win32Window' at 0x00000226FD0A6310>\n",
      "[I 2023-07-27 17:13:31,575] Trial 12 finished with value: -34.426631927490234 and parameters: {'lr': 0.09089509266845, 'gamma': 0.9806555993268568, 'hidden_size': 160}. Best is trial 10 with value: -14.531746864318848.\n",
      "GPU available: True, used: True\n",
      "TPU available: False, using: 0 TPU cores\n",
      "IPU available: False, using: 0 IPUs\n",
      "HPU available: False, using: 0 HPUs\n",
      "LOCAL_RANK: 0 - CUDA_VISIBLE_DEVICES: [0]\n",
      "\n",
      "  | Name         | Type | Params\n",
      "--------------------------------------\n",
      "0 | q_net        | DQN  | 39.6 K\n",
      "1 | target_q_net | DQN  | 39.6 K\n",
      "--------------------------------------\n",
      "79.1 K    Trainable params\n",
      "0         Non-trainable params\n",
      "79.1 K    Total params\n",
      "0.316     Total estimated model params size (MB)\n"
     ]
    },
    {
     "data": {
      "application/vnd.jupyter.widget-view+json": {
       "model_id": "162dba74e6d844a99932563e8bd3871b",
       "version_major": 2,
       "version_minor": 0
      },
      "text/plain": [
       "Training: 0it [00:00, ?it/s]"
      ]
     },
     "metadata": {},
     "output_type": "display_data"
    },
    {
     "name": "stderr",
     "output_type": "stream",
     "text": [
      "Exception ignored in: <function Viewer.__del__ at 0x00000226AFA6EA60>\n",
      "Traceback (most recent call last):\n",
      "  File \"C:\\ProgramData\\Anaconda3\\envs\\vrep\\lib\\site-packages\\gym\\envs\\classic_control\\rendering.py\", line 185, in __del__\n",
      "    self.close()\n",
      "  File \"C:\\ProgramData\\Anaconda3\\envs\\vrep\\lib\\site-packages\\gym\\envs\\classic_control\\rendering.py\", line 101, in close\n",
      "    self.window.close()\n",
      "  File \"C:\\ProgramData\\Anaconda3\\envs\\vrep\\lib\\site-packages\\pyglet\\window\\win32\\__init__.py\", line 332, in close\n",
      "    super(Win32Window, self).close()\n",
      "  File \"C:\\ProgramData\\Anaconda3\\envs\\vrep\\lib\\site-packages\\pyglet\\window\\__init__.py\", line 858, in close\n",
      "    app.windows.remove(self)\n",
      "  File \"C:\\ProgramData\\Anaconda3\\envs\\vrep\\lib\\_weakrefset.py\", line 114, in remove\n",
      "    self.data.remove(ref(item))\n",
      "KeyError: <weakref at 0x00000227893FE630; to 'Win32Window' at 0x0000022749CA2C10>\n",
      "[I 2023-07-27 17:14:59,954] Trial 13 finished with value: -30.436830520629883 and parameters: {'lr': 0.001975540393410073, 'gamma': 0.9740220897191575, 'hidden_size': 192}. Best is trial 10 with value: -14.531746864318848.\n",
      "GPU available: True, used: True\n",
      "TPU available: False, using: 0 TPU cores\n",
      "IPU available: False, using: 0 IPUs\n",
      "HPU available: False, using: 0 HPUs\n",
      "LOCAL_RANK: 0 - CUDA_VISIBLE_DEVICES: [0]\n",
      "\n",
      "  | Name         | Type | Params\n",
      "--------------------------------------\n",
      "0 | q_net        | DQN  | 53.3 K\n",
      "1 | target_q_net | DQN  | 53.3 K\n",
      "--------------------------------------\n",
      "106 K     Trainable params\n",
      "0         Non-trainable params\n",
      "106 K     Total params\n",
      "0.427     Total estimated model params size (MB)\n"
     ]
    },
    {
     "data": {
      "application/vnd.jupyter.widget-view+json": {
       "model_id": "549d655874a4419daabb22afbcde40d1",
       "version_major": 2,
       "version_minor": 0
      },
      "text/plain": [
       "Training: 0it [00:00, ?it/s]"
      ]
     },
     "metadata": {},
     "output_type": "display_data"
    },
    {
     "name": "stderr",
     "output_type": "stream",
     "text": [
      "Exception ignored in: <function Viewer.__del__ at 0x00000226AFA6EA60>\n",
      "Traceback (most recent call last):\n",
      "  File \"C:\\ProgramData\\Anaconda3\\envs\\vrep\\lib\\site-packages\\gym\\envs\\classic_control\\rendering.py\", line 185, in __del__\n",
      "    self.close()\n",
      "  File \"C:\\ProgramData\\Anaconda3\\envs\\vrep\\lib\\site-packages\\gym\\envs\\classic_control\\rendering.py\", line 101, in close\n",
      "    self.window.close()\n",
      "  File \"C:\\ProgramData\\Anaconda3\\envs\\vrep\\lib\\site-packages\\pyglet\\window\\win32\\__init__.py\", line 332, in close\n",
      "    super(Win32Window, self).close()\n",
      "  File \"C:\\ProgramData\\Anaconda3\\envs\\vrep\\lib\\site-packages\\pyglet\\window\\__init__.py\", line 858, in close\n",
      "    app.windows.remove(self)\n",
      "  File \"C:\\ProgramData\\Anaconda3\\envs\\vrep\\lib\\_weakrefset.py\", line 114, in remove\n",
      "    self.data.remove(ref(item))\n",
      "KeyError: <weakref at 0x0000022765B84720; to 'Win32Window' at 0x00000226B8079E50>\n",
      "[I 2023-07-27 17:16:33,330] Trial 14 finished with value: -17.307844161987305 and parameters: {'lr': 0.002453256964344032, 'gamma': 0.8212274724595128, 'hidden_size': 224}. Best is trial 10 with value: -14.531746864318848.\n",
      "GPU available: True, used: True\n",
      "TPU available: False, using: 0 TPU cores\n",
      "IPU available: False, using: 0 IPUs\n",
      "HPU available: False, using: 0 HPUs\n",
      "LOCAL_RANK: 0 - CUDA_VISIBLE_DEVICES: [0]\n",
      "\n",
      "  | Name         | Type | Params\n",
      "--------------------------------------\n",
      "0 | q_net        | DQN  | 53.3 K\n",
      "1 | target_q_net | DQN  | 53.3 K\n",
      "--------------------------------------\n",
      "106 K     Trainable params\n",
      "0         Non-trainable params\n",
      "106 K     Total params\n",
      "0.427     Total estimated model params size (MB)\n"
     ]
    },
    {
     "data": {
      "application/vnd.jupyter.widget-view+json": {
       "model_id": "424abc1ffa4a44dc91e21a0e7b6fe8a6",
       "version_major": 2,
       "version_minor": 0
      },
      "text/plain": [
       "Training: 0it [00:00, ?it/s]"
      ]
     },
     "metadata": {},
     "output_type": "display_data"
    },
    {
     "name": "stderr",
     "output_type": "stream",
     "text": [
      "Exception ignored in: <function Viewer.__del__ at 0x00000226AFA6EA60>\n",
      "Traceback (most recent call last):\n",
      "  File \"C:\\ProgramData\\Anaconda3\\envs\\vrep\\lib\\site-packages\\gym\\envs\\classic_control\\rendering.py\", line 185, in __del__\n",
      "    self.close()\n",
      "  File \"C:\\ProgramData\\Anaconda3\\envs\\vrep\\lib\\site-packages\\gym\\envs\\classic_control\\rendering.py\", line 101, in close\n",
      "    self.window.close()\n",
      "  File \"C:\\ProgramData\\Anaconda3\\envs\\vrep\\lib\\site-packages\\pyglet\\window\\win32\\__init__.py\", line 332, in close\n",
      "    super(Win32Window, self).close()\n",
      "  File \"C:\\ProgramData\\Anaconda3\\envs\\vrep\\lib\\site-packages\\pyglet\\window\\__init__.py\", line 858, in close\n",
      "    app.windows.remove(self)\n",
      "  File \"C:\\ProgramData\\Anaconda3\\envs\\vrep\\lib\\_weakrefset.py\", line 114, in remove\n",
      "    self.data.remove(ref(item))\n",
      "KeyError: <weakref at 0x00000226B80B3590; to 'Win32Window' at 0x0000022749CAF760>\n",
      "[I 2023-07-27 17:18:05,412] Trial 15 finished with value: -16.04950523376465 and parameters: {'lr': 0.0026195017357380115, 'gamma': 0.8131974730732632, 'hidden_size': 224}. Best is trial 10 with value: -14.531746864318848.\n",
      "GPU available: True, used: True\n",
      "TPU available: False, using: 0 TPU cores\n",
      "IPU available: False, using: 0 IPUs\n",
      "HPU available: False, using: 0 HPUs\n",
      "LOCAL_RANK: 0 - CUDA_VISIBLE_DEVICES: [0]\n",
      "\n",
      "  | Name         | Type | Params\n",
      "--------------------------------------\n",
      "0 | q_net        | DQN  | 27.8 K\n",
      "1 | target_q_net | DQN  | 27.8 K\n",
      "--------------------------------------\n",
      "55.7 K    Trainable params\n",
      "0         Non-trainable params\n",
      "55.7 K    Total params\n",
      "0.223     Total estimated model params size (MB)\n"
     ]
    },
    {
     "data": {
      "application/vnd.jupyter.widget-view+json": {
       "model_id": "0a2260e7d16641ffb93ec2451058cc40",
       "version_major": 2,
       "version_minor": 0
      },
      "text/plain": [
       "Training: 0it [00:00, ?it/s]"
      ]
     },
     "metadata": {},
     "output_type": "display_data"
    },
    {
     "name": "stderr",
     "output_type": "stream",
     "text": [
      "Exception ignored in: <function Viewer.__del__ at 0x00000226AFA6EA60>\n",
      "Traceback (most recent call last):\n",
      "  File \"C:\\ProgramData\\Anaconda3\\envs\\vrep\\lib\\site-packages\\gym\\envs\\classic_control\\rendering.py\", line 185, in __del__\n",
      "    self.close()\n",
      "  File \"C:\\ProgramData\\Anaconda3\\envs\\vrep\\lib\\site-packages\\gym\\envs\\classic_control\\rendering.py\", line 101, in close\n",
      "    self.window.close()\n",
      "  File \"C:\\ProgramData\\Anaconda3\\envs\\vrep\\lib\\site-packages\\pyglet\\window\\win32\\__init__.py\", line 332, in close\n",
      "    super(Win32Window, self).close()\n",
      "  File \"C:\\ProgramData\\Anaconda3\\envs\\vrep\\lib\\site-packages\\pyglet\\window\\__init__.py\", line 858, in close\n",
      "    app.windows.remove(self)\n",
      "  File \"C:\\ProgramData\\Anaconda3\\envs\\vrep\\lib\\_weakrefset.py\", line 114, in remove\n",
      "    self.data.remove(ref(item))\n",
      "KeyError: <weakref at 0x00000227893DA5E0; to 'Win32Window' at 0x000002273FB8A9D0>\n",
      "[I 2023-07-27 17:19:34,661] Trial 16 finished with value: -37.0911979675293 and parameters: {'lr': 0.0003667894560355202, 'gamma': 0.7743646962740492, 'hidden_size': 160}. Best is trial 10 with value: -14.531746864318848.\n",
      "GPU available: True, used: True\n",
      "TPU available: False, using: 0 TPU cores\n",
      "IPU available: False, using: 0 IPUs\n",
      "HPU available: False, using: 0 HPUs\n",
      "LOCAL_RANK: 0 - CUDA_VISIBLE_DEVICES: [0]\n",
      "\n",
      "  | Name         | Type | Params\n",
      "--------------------------------------\n",
      "0 | q_net        | DQN  | 69.1 K\n",
      "1 | target_q_net | DQN  | 69.1 K\n",
      "--------------------------------------\n",
      "138 K     Trainable params\n",
      "0         Non-trainable params\n",
      "138 K     Total params\n",
      "0.553     Total estimated model params size (MB)\n"
     ]
    },
    {
     "data": {
      "application/vnd.jupyter.widget-view+json": {
       "model_id": "471736d73f464378a28d29125fe8170a",
       "version_major": 2,
       "version_minor": 0
      },
      "text/plain": [
       "Training: 0it [00:00, ?it/s]"
      ]
     },
     "metadata": {},
     "output_type": "display_data"
    },
    {
     "name": "stderr",
     "output_type": "stream",
     "text": [
      "Exception ignored in: <function Viewer.__del__ at 0x00000226AFA6EA60>\n",
      "Traceback (most recent call last):\n",
      "  File \"C:\\ProgramData\\Anaconda3\\envs\\vrep\\lib\\site-packages\\gym\\envs\\classic_control\\rendering.py\", line 185, in __del__\n",
      "    self.close()\n",
      "  File \"C:\\ProgramData\\Anaconda3\\envs\\vrep\\lib\\site-packages\\gym\\envs\\classic_control\\rendering.py\", line 101, in close\n",
      "    self.window.close()\n",
      "  File \"C:\\ProgramData\\Anaconda3\\envs\\vrep\\lib\\site-packages\\pyglet\\window\\win32\\__init__.py\", line 332, in close\n",
      "    super(Win32Window, self).close()\n",
      "  File \"C:\\ProgramData\\Anaconda3\\envs\\vrep\\lib\\site-packages\\pyglet\\window\\__init__.py\", line 858, in close\n",
      "    app.windows.remove(self)\n",
      "  File \"C:\\ProgramData\\Anaconda3\\envs\\vrep\\lib\\_weakrefset.py\", line 114, in remove\n",
      "    self.data.remove(ref(item))\n",
      "KeyError: <weakref at 0x000002272FF447C0; to 'Win32Window' at 0x00000226B918BE80>\n",
      "[I 2023-07-27 17:21:10,642] Trial 17 finished with value: 16.095420837402344 and parameters: {'lr': 0.003807635325661047, 'gamma': 0.9943885578314805, 'hidden_size': 256}. Best is trial 17 with value: 16.095420837402344.\n",
      "GPU available: True, used: True\n",
      "TPU available: False, using: 0 TPU cores\n",
      "IPU available: False, using: 0 IPUs\n",
      "HPU available: False, using: 0 HPUs\n",
      "LOCAL_RANK: 0 - CUDA_VISIBLE_DEVICES: [0]\n",
      "\n",
      "  | Name         | Type | Params\n",
      "--------------------------------------\n",
      "0 | q_net        | DQN  | 69.1 K\n",
      "1 | target_q_net | DQN  | 69.1 K\n",
      "--------------------------------------\n",
      "138 K     Trainable params\n",
      "0         Non-trainable params\n",
      "138 K     Total params\n",
      "0.553     Total estimated model params size (MB)\n"
     ]
    },
    {
     "data": {
      "application/vnd.jupyter.widget-view+json": {
       "model_id": "2c7f248781c74a538f11180609990494",
       "version_major": 2,
       "version_minor": 0
      },
      "text/plain": [
       "Training: 0it [00:00, ?it/s]"
      ]
     },
     "metadata": {},
     "output_type": "display_data"
    },
    {
     "name": "stderr",
     "output_type": "stream",
     "text": [
      "Exception ignored in: <function Viewer.__del__ at 0x00000226AFA6EA60>\n",
      "Traceback (most recent call last):\n",
      "  File \"C:\\ProgramData\\Anaconda3\\envs\\vrep\\lib\\site-packages\\gym\\envs\\classic_control\\rendering.py\", line 185, in __del__\n",
      "    self.close()\n",
      "  File \"C:\\ProgramData\\Anaconda3\\envs\\vrep\\lib\\site-packages\\gym\\envs\\classic_control\\rendering.py\", line 101, in close\n",
      "    self.window.close()\n",
      "  File \"C:\\ProgramData\\Anaconda3\\envs\\vrep\\lib\\site-packages\\pyglet\\window\\win32\\__init__.py\", line 332, in close\n",
      "    super(Win32Window, self).close()\n",
      "  File \"C:\\ProgramData\\Anaconda3\\envs\\vrep\\lib\\site-packages\\pyglet\\window\\__init__.py\", line 858, in close\n",
      "    app.windows.remove(self)\n",
      "  File \"C:\\ProgramData\\Anaconda3\\envs\\vrep\\lib\\_weakrefset.py\", line 114, in remove\n",
      "    self.data.remove(ref(item))\n",
      "KeyError: <weakref at 0x0000022789434540; to 'Win32Window' at 0x0000022749CA2430>\n",
      "[I 2023-07-27 17:22:37,787] Trial 18 finished with value: -27.06827163696289 and parameters: {'lr': 0.004190166416332845, 'gamma': 0.695168381981687, 'hidden_size': 256}. Best is trial 17 with value: 16.095420837402344.\n",
      "GPU available: True, used: True\n",
      "TPU available: False, using: 0 TPU cores\n",
      "IPU available: False, using: 0 IPUs\n",
      "HPU available: False, using: 0 HPUs\n",
      "LOCAL_RANK: 0 - CUDA_VISIBLE_DEVICES: [0]\n",
      "\n",
      "  | Name         | Type | Params\n",
      "--------------------------------------\n",
      "0 | q_net        | DQN  | 33.4 K\n",
      "1 | target_q_net | DQN  | 33.4 K\n",
      "--------------------------------------\n",
      "66.9 K    Trainable params\n",
      "0         Non-trainable params\n",
      "66.9 K    Total params\n",
      "0.268     Total estimated model params size (MB)\n"
     ]
    },
    {
     "data": {
      "application/vnd.jupyter.widget-view+json": {
       "model_id": "7964ec5dff804d1580f3c2d10b72e8f1",
       "version_major": 2,
       "version_minor": 0
      },
      "text/plain": [
       "Training: 0it [00:00, ?it/s]"
      ]
     },
     "metadata": {},
     "output_type": "display_data"
    },
    {
     "name": "stderr",
     "output_type": "stream",
     "text": [
      "Exception ignored in: <function Viewer.__del__ at 0x00000226AFA6EA60>\n",
      "Traceback (most recent call last):\n",
      "  File \"C:\\ProgramData\\Anaconda3\\envs\\vrep\\lib\\site-packages\\gym\\envs\\classic_control\\rendering.py\", line 185, in __del__\n",
      "    self.close()\n",
      "  File \"C:\\ProgramData\\Anaconda3\\envs\\vrep\\lib\\site-packages\\gym\\envs\\classic_control\\rendering.py\", line 101, in close\n",
      "    self.window.close()\n",
      "  File \"C:\\ProgramData\\Anaconda3\\envs\\vrep\\lib\\site-packages\\pyglet\\window\\win32\\__init__.py\", line 332, in close\n",
      "    super(Win32Window, self).close()\n",
      "  File \"C:\\ProgramData\\Anaconda3\\envs\\vrep\\lib\\site-packages\\pyglet\\window\\__init__.py\", line 858, in close\n",
      "    app.windows.remove(self)\n",
      "  File \"C:\\ProgramData\\Anaconda3\\envs\\vrep\\lib\\_weakrefset.py\", line 114, in remove\n",
      "    self.data.remove(ref(item))\n",
      "KeyError: <weakref at 0x000002277EEB5EF0; to 'Win32Window' at 0x000002277F20CD00>\n",
      "[I 2023-07-27 17:24:09,085] Trial 19 finished with value: -10.858508110046387 and parameters: {'lr': 0.0004701590775504911, 'gamma': 0.991589276896506, 'hidden_size': 176}. Best is trial 17 with value: 16.095420837402344.\n"
     ]
    }
   ],
   "source": [
    "study.optimize(objective , n_trials=20)"
   ]
  },
  {
   "cell_type": "code",
   "execution_count": 15,
   "id": "981dbce7",
   "metadata": {},
   "outputs": [
    {
     "data": {
      "text/plain": [
       "{'lr': 0.003807635325661047, 'gamma': 0.9943885578314805, 'hidden_size': 256}"
      ]
     },
     "execution_count": 15,
     "metadata": {},
     "output_type": "execute_result"
    }
   ],
   "source": [
    "study.best_params"
   ]
  },
  {
   "cell_type": "code",
   "execution_count": 17,
   "id": "bfb6cc98",
   "metadata": {},
   "outputs": [
    {
     "name": "stderr",
     "output_type": "stream",
     "text": [
      "rm: cannot remove 'lightning_logs/': No such file or directory\n"
     ]
    },
    {
     "name": "stdout",
     "output_type": "stream",
     "text": [
      "The tensorboard extension is already loaded. To reload it, use:\n",
      "  %reload_ext tensorboard\n"
     ]
    },
    {
     "name": "stderr",
     "output_type": "stream",
     "text": [
      "rm: cannot remove 'videos/': No such file or directory\n"
     ]
    },
    {
     "data": {
      "text/plain": [
       "Reusing TensorBoard on port 6006 (pid 13104), started 2:28:05 ago. (Use '!kill 13104' to kill it.)"
      ]
     },
     "metadata": {},
     "output_type": "display_data"
    },
    {
     "data": {
      "text/html": [
       "\n",
       "      <iframe id=\"tensorboard-frame-331903a27c47c205\" width=\"100%\" height=\"800\" frameborder=\"0\">\n",
       "      </iframe>\n",
       "      <script>\n",
       "        (function() {\n",
       "          const frame = document.getElementById(\"tensorboard-frame-331903a27c47c205\");\n",
       "          const url = new URL(\"/\", window.location);\n",
       "          const port = 6006;\n",
       "          if (port) {\n",
       "            url.port = port;\n",
       "          }\n",
       "          frame.src = url;\n",
       "        })();\n",
       "      </script>\n",
       "    "
      ],
      "text/plain": [
       "<IPython.core.display.HTML object>"
      ]
     },
     "metadata": {},
     "output_type": "display_data"
    }
   ],
   "source": [
    "!rm -r lightning_logs/\n",
    "!rm -r videos/\n",
    "%load_ext tensorboard\n",
    "%tensorboard --logdir lightning_logs/"
   ]
  },
  {
   "cell_type": "code",
   "execution_count": 18,
   "id": "16b000a8",
   "metadata": {},
   "outputs": [
    {
     "name": "stderr",
     "output_type": "stream",
     "text": [
      "GPU available: True, used: True\n",
      "TPU available: False, using: 0 TPU cores\n",
      "IPU available: False, using: 0 IPUs\n",
      "HPU available: False, using: 0 HPUs\n",
      "Missing logger folder: C:\\Users\\Ali\\Documents\\RLwithPhil\\code\\lightning_logs\n",
      "LOCAL_RANK: 0 - CUDA_VISIBLE_DEVICES: [0]\n",
      "\n",
      "  | Name         | Type | Params\n",
      "--------------------------------------\n",
      "0 | q_net        | DQN  | 69.1 K\n",
      "1 | target_q_net | DQN  | 69.1 K\n",
      "--------------------------------------\n",
      "138 K     Trainable params\n",
      "0         Non-trainable params\n",
      "138 K     Total params\n",
      "0.553     Total estimated model params size (MB)\n"
     ]
    },
    {
     "data": {
      "application/vnd.jupyter.widget-view+json": {
       "model_id": "6c3b885d7c6549f08c59d0c235ae15d7",
       "version_major": 2,
       "version_minor": 0
      },
      "text/plain": [
       "Training: 0it [00:00, ?it/s]"
      ]
     },
     "metadata": {},
     "output_type": "display_data"
    },
    {
     "name": "stderr",
     "output_type": "stream",
     "text": [
      "Exception ignored in: <function Viewer.__del__ at 0x00000226AFA6EA60>\n",
      "Traceback (most recent call last):\n",
      "  File \"C:\\ProgramData\\Anaconda3\\envs\\vrep\\lib\\site-packages\\gym\\envs\\classic_control\\rendering.py\", line 185, in __del__\n",
      "    self.close()\n",
      "  File \"C:\\ProgramData\\Anaconda3\\envs\\vrep\\lib\\site-packages\\gym\\envs\\classic_control\\rendering.py\", line 101, in close\n",
      "    self.window.close()\n",
      "  File \"C:\\ProgramData\\Anaconda3\\envs\\vrep\\lib\\site-packages\\pyglet\\window\\win32\\__init__.py\", line 332, in close\n",
      "    super(Win32Window, self).close()\n",
      "  File \"C:\\ProgramData\\Anaconda3\\envs\\vrep\\lib\\site-packages\\pyglet\\window\\__init__.py\", line 858, in close\n",
      "    app.windows.remove(self)\n",
      "  File \"C:\\ProgramData\\Anaconda3\\envs\\vrep\\lib\\_weakrefset.py\", line 114, in remove\n",
      "    self.data.remove(ref(item))\n",
      "KeyError: <weakref at 0x0000022765F7A2C0; to 'Win32Window' at 0x00000226B918BA30>\n"
     ]
    }
   ],
   "source": [
    "## Now Let's train with the best parameters:\n",
    "algo = DeepQLearning(\"LunarLander-v2\" ,**study.best_params)\n",
    "trainer = Trainer(gpus=num_gpus , max_epochs=5000 )\n",
    "trainer.fit(algo)"
   ]
  }
 ],
 "metadata": {
  "kernelspec": {
   "display_name": "Python 3 (ipykernel)",
   "language": "python",
   "name": "python3"
  },
  "language_info": {
   "codemirror_mode": {
    "name": "ipython",
    "version": 3
   },
   "file_extension": ".py",
   "mimetype": "text/x-python",
   "name": "python",
   "nbconvert_exporter": "python",
   "pygments_lexer": "ipython3",
   "version": "3.9.12"
  }
 },
 "nbformat": 4,
 "nbformat_minor": 5
}
